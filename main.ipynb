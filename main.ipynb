{
 "cells": [
  {
   "cell_type": "markdown",
   "id": "a9392412",
   "metadata": {},
   "source": [
    "# Dataset generation"
   ]
  },
  {
   "cell_type": "code",
   "execution_count": 4,
   "id": "2811c2ca",
   "metadata": {},
   "outputs": [],
   "source": [
    "import os\n",
    "import config_gen\n",
    "import numpy as np\n",
    "from functions import (\n",
    "    generate_random_line,\n",
    "    get_points,\n",
    "    spatial_limits,\n",
    "    missed_stave,\n",
    "    Probmiss,\n",
    "    ProbNoise,\n",
    "    dist_z,\n",
    "    stavew,\n",
    "    Lgap,\n",
    "    noise_gen,\n",
    "    save_csv_py,\n",
    "    data,\n",
    ")\n",
    "from pathlib import Path\n",
    "dir = Path(os.path.abspath(\"\"))"
   ]
  },
  {
   "cell_type": "code",
   "execution_count": 5,
   "id": "beb67269",
   "metadata": {},
   "outputs": [
    {
     "name": "stdout",
     "output_type": "stream",
     "text": [
      "Processing file: /home/luca/Uni/Triennale/VI/Tesi/final_thesis/data/sim_1.csv\n",
      "Processing file: /home/luca/Uni/Triennale/VI/Tesi/final_thesis/data/sim_2.csv\n",
      "0\n",
      "0\n",
      "Processing file: /home/luca/Uni/Triennale/VI/Tesi/final_thesis/data/sim_3.csv\n",
      "0\n",
      "0\n",
      "0\n",
      "0\n",
      "Processing file: /home/luca/Uni/Triennale/VI/Tesi/final_thesis/data/sim_4.csv\n",
      "0\n",
      "0\n",
      "0\n",
      "0\n",
      "0\n",
      "0\n",
      "Processing file: /home/luca/Uni/Triennale/VI/Tesi/final_thesis/data/sim_5.csv\n",
      "0\n",
      "0\n",
      "0\n",
      "0\n",
      "0\n",
      "0\n",
      "0\n",
      "0\n",
      "0\n",
      "0\n",
      "0\n",
      "0\n",
      "0\n",
      "0\n",
      "0\n",
      "0\n",
      "0\n",
      "Processing file: /home/luca/Uni/Triennale/VI/Tesi/final_thesis/data/sim_6.csv\n",
      "0\n",
      "0\n",
      "0\n",
      "0\n",
      "0\n",
      "0\n",
      "0\n",
      "0\n",
      "Processing file: /home/luca/Uni/Triennale/VI/Tesi/final_thesis/data/sim_7.csv\n",
      "0\n",
      "0\n",
      "0\n",
      "0\n",
      "0\n",
      "0\n",
      "0\n",
      "Processing file: /home/luca/Uni/Triennale/VI/Tesi/final_thesis/data/sim_8.csv\n",
      "0\n",
      "0\n",
      "0\n",
      "0\n",
      "0\n",
      "0\n",
      "0\n",
      "0\n",
      "0\n",
      "0\n",
      "0\n",
      "0\n",
      "0\n",
      "0\n",
      "0\n",
      "0\n",
      "0\n",
      "Processing file: /home/luca/Uni/Triennale/VI/Tesi/final_thesis/data/sim_9.csv\n",
      "0\n",
      "0\n",
      "0\n",
      "0\n",
      "0\n",
      "0\n",
      "0\n",
      "0\n",
      "0\n",
      "0\n",
      "0\n",
      "0\n",
      "0\n",
      "0\n",
      "0\n",
      "0\n",
      "0\n",
      "0\n",
      "0\n",
      "0\n",
      "Processing file: /home/luca/Uni/Triennale/VI/Tesi/final_thesis/data/sim_10.csv\n",
      "0\n",
      "0\n",
      "0\n",
      "0\n",
      "0\n",
      "0\n",
      "0\n",
      "0\n",
      "0\n",
      "0\n",
      "0\n",
      "0\n",
      "0\n",
      "0\n",
      "0\n",
      "0\n",
      "0\n",
      "0\n",
      "0\n"
     ]
    }
   ],
   "source": [
    "num_samples = 100#config_gen.N_EVGEN # Change the number of generated event here or in the config file\n",
    "os.makedirs(dir / \"data\", exist_ok=True) # A folder named data is created in the same dir of this file\n",
    "outfile =[dir / \"data\" / f\"sim_{i}.csv\" for i in range(1,11)]    # data saved in sim_{i}.csv\n",
    "count = 0\n",
    "\n",
    "for idx, file_path in enumerate(outfile):\n",
    "    print(f\"Processing file: {file_path}\")\n",
    "    num_plots, num_gen_events = 0, 0\n",
    "    cont = []\n",
    "    while num_gen_events <= num_samples:\n",
    "        point, direction = generate_random_line()  # Inputs can be adjusted in the function\n",
    "        points_on_line = get_points(direction, point, [0., -dist_z, -2*dist_z])\n",
    "\n",
    "        if spatial_limits(points_on_line):\n",
    "            \n",
    "            points = points_on_line.reshape(-1, 3)\n",
    "            #print(points.shape)\n",
    "\n",
    "            mask_missed = np.array([missed_stave(y, stavew, Lgap) for y in points[:,1]])\n",
    "\n",
    "            points = points[~mask_missed]\n",
    "\n",
    "            # Introducing noise\n",
    "            if len(points) > 0:\n",
    "\n",
    "                rand_vals = np.random.uniform(0, 1, size=len(points))\n",
    "                points = points[rand_vals >= Probmiss]\n",
    "\n",
    "            if points.shape[0] >=3:\n",
    "\n",
    "                points_on_line = points.reshape(-1, 3)\n",
    "                cont.append(data(num_gen_events, points_on_line, direction, point, num_plots+1))\n",
    "                num_plots += 1\n",
    "            \n",
    "            noise = noise_gen(ProbNoise, dist_z)\n",
    "            cont.append(data(num_gen_events, noise, np.zeros_like(direction), np.zeros_like(point), -1))\n",
    "        if num_plots == (idx+1):\n",
    "            num_plots = 0\n",
    "            num_gen_events += 1\n",
    "        if num_gen_events%500 == 0:\n",
    "            print(num_gen_events)\n",
    "\n",
    "        count += 1\n",
    "\n",
    "    save_csv_py(cont, file_path)"
   ]
  },
  {
   "cell_type": "markdown",
   "id": "c28aaf25",
   "metadata": {},
   "source": [
    "## Direction of the generated particles"
   ]
  },
  {
   "cell_type": "markdown",
   "id": "4e98ba02",
   "metadata": {},
   "source": [
    "Dataset generation"
   ]
  },
  {
   "cell_type": "code",
   "execution_count": 6,
   "id": "0c0a1c21",
   "metadata": {},
   "outputs": [],
   "source": [
    "import os\n",
    "import numpy as np\n",
    "import csv\n",
    "from functions import (\n",
    "    spatial_limits,\n",
    "    get_points,\n",
    "    missed_stave,\n",
    "    generate_random_line,\n",
    "    Probmiss,\n",
    "    dist_z,\n",
    "    stavew,\n",
    "    Lgap,\n",
    ")\n",
    "from pathlib import Path\n",
    "dir = Path(os.path.abspath(\"\"))"
   ]
  },
  {
   "cell_type": "code",
   "execution_count": 7,
   "id": "ee88b222",
   "metadata": {},
   "outputs": [],
   "source": [
    "os.makedirs(dir / \"dirs\", exist_ok=True) # A folder named dirs is created in the same dir of this file\n",
    "paths = [os.path.join(dir, \"dirs\", f\"{name}.csv\") for name in [\"dir_iso\", \"dir_inc\"]]\n",
    "flag = True\n",
    "\n",
    "num_samples = 100000\n",
    "for outfile in paths:\n",
    "    directions_list = np.empty((num_samples, 3), dtype=float)\n",
    "    num_gen_events = 0\n",
    "\n",
    "    while num_gen_events < num_samples:\n",
    "        point, direction = generate_random_line(uniform_theta=flag)\n",
    "        points_on_line = get_points(direction, point, [0., -dist_z, -2 * dist_z])\n",
    "\n",
    "        if not spatial_limits(points_on_line):\n",
    "            continue\n",
    "\n",
    "        points = points_on_line.reshape(-1, 3)\n",
    "        mask_missed = np.fromiter((missed_stave(y, stavew, Lgap) for y in points[:, 1]), dtype=bool, count=len(points))\n",
    "        points = points[~mask_missed]\n",
    "\n",
    "        if points.size == 0:\n",
    "            continue\n",
    "\n",
    "        rand_vals = np.random.rand(len(points))\n",
    "        points = points[rand_vals >= Probmiss]\n",
    "\n",
    "        if points.shape[0] > 0:\n",
    "            directions_list[num_gen_events] = direction\n",
    "            num_gen_events += 1\n",
    "\n",
    "    header = ['dx', 'dy', 'dz']\n",
    "    np.savetxt(outfile, directions_list, delimiter=\",\", header=\",\".join(header), comments='', fmt=\"%.6f\")\n",
    "    flag = not flag\n",
    "    "
   ]
  },
  {
   "cell_type": "markdown",
   "id": "62d97753",
   "metadata": {},
   "source": [
    "Angular distribution visualization"
   ]
  },
  {
   "cell_type": "code",
   "execution_count": 8,
   "id": "4d079496",
   "metadata": {},
   "outputs": [],
   "source": [
    "import numpy as np\n",
    "import matplotlib.pyplot as plt\n",
    "import pandas as pd\n",
    "import os\n",
    "plt.rcParams.update({'font.size': 14})\n",
    "from pathlib import Path\n",
    "from functions import (\n",
    "    asSpherical\n",
    ")\n",
    "dir = Path(os.path.abspath(\"\"))"
   ]
  },
  {
   "cell_type": "code",
   "execution_count": 9,
   "id": "245e0dcf",
   "metadata": {},
   "outputs": [
    {
     "data": {
      "image/png": "[encoded data removed]",
      "text/plain": [
       "<Figure size 640x480 with 1 Axes>"
      ]
     },
     "metadata": {},
     "output_type": "display_data"
    },
    {
     "data": {
      "image/png": "[encoded data removed]",
      "text/plain": [
       "<Figure size 640x480 with 1 Axes>"
      ]
     },
     "metadata": {},
     "output_type": "display_data"
    }
   ],
   "source": [
    "paths = [os.path.join(dir, \"dirs\", f\"{name}.csv\") for name in [\"dir_iso\", \"dir_inc\"]]\n",
    "\n",
    "direction = pd.read_csv(paths[0]).values\n",
    "sph = np.vstack(asSpherical(direction))\n",
    "a = np.sort(sph[:,1])\n",
    "phi = []\n",
    "for i in a:\n",
    "    if i>0:\n",
    "        phi.append(i)\n",
    "    else:\n",
    "        phi.append(360+i)\n",
    "phi1 = np.sort(phi)\n",
    "theta1 = np.sort(sph[:,0])\n",
    "\n",
    "direction = pd.read_csv(paths[1]).values\n",
    "sph = np.vstack(asSpherical(direction))\n",
    "a = np.sort(sph[:,1])\n",
    "phi = []\n",
    "for i in a:\n",
    "    if i>0:\n",
    "        phi.append(i)\n",
    "    else:\n",
    "        phi.append(360+i)\n",
    "phi2 = np.sort(phi)\n",
    "theta2 = np.sort(sph[:,0])\n",
    "\n",
    "\n",
    "# Histogram generation\n",
    "\n",
    "counts, bins = np.histogram(phi1,25)\n",
    "\n",
    "plt.hist(bins[:-1], bins, weights=counts/np.sum(counts), histtype=\"step\",lw=1.5,label=\"Phi Inclined\")\n",
    "\n",
    "counts, bins = np.histogram(phi2,25)\n",
    "\n",
    "plt.hist(bins[:-1], bins, weights=counts/np.sum(counts), histtype=\"step\",lw=1.5,label=\"Phi Isotropic\",color=\"green\")\n",
    "\n",
    "plt.ylabel(\"Counts (%)\", fontsize=16)\n",
    "plt.xlabel(\"Theta Distributions [Degrees]\", fontsize=16)\n",
    "plt.xticks(np.arange(0, 420, 60), fontsize=14)\n",
    "plt.yticks(fontsize=14)\n",
    "\n",
    "plt.legend()\n",
    "\n",
    "plt.show()\n",
    "\n",
    "\n",
    "counts, bins = np.histogram(theta1,25)\n",
    "\n",
    "plt.hist(bins[:-1], bins, weights=counts/np.sum(counts), histtype=\"step\",lw=1.5,label=\"Phi Inclined\")\n",
    "\n",
    "counts, bins = np.histogram(theta2,25)\n",
    "\n",
    "plt.hist(bins[:-1], bins, weights=counts/np.sum(counts), histtype=\"step\",lw=1.5,label=\"Phi Isotropic\",color=\"green\")\n",
    "\n",
    "plt.ylabel(\"Counts (%)\", fontsize=16)\n",
    "plt.xlabel(\"Phi Distribution [Degrees]\", fontsize=16)\n",
    "plt.xticks(fontsize=14) \n",
    "plt.yticks(fontsize=14) \n",
    "\n",
    "plt.legend()\n",
    "\n",
    "plt.show()\n"
   ]
  },
  {
   "cell_type": "markdown",
   "id": "ce10a278",
   "metadata": {},
   "source": [
    "# Reconstructions algorithms:"
   ]
  },
  {
   "cell_type": "markdown",
   "id": "742e8fcd",
   "metadata": {},
   "source": [
    "## Combinatorial Method"
   ]
  },
  {
   "cell_type": "code",
   "execution_count": 10,
   "id": "d592e395",
   "metadata": {},
   "outputs": [],
   "source": [
    "import csv\n",
    "from tqdm import tqdm\n",
    "import numpy as np\n",
    "import os\n",
    "from pathlib import Path\n",
    "from datetime import datetime\n",
    "import pandas as pd\n",
    "import matplotlib.pyplot as plt\n",
    "from functions import (\n",
    "    data_t_gen,\n",
    "    get_combinations,\n",
    "    read_csv_py,\n",
    "    chi2_line,\n",
    "    dist_z,\n",
    "    \n",
    ")\n",
    "path = Path(os.path.abspath(\"\"))"
   ]
  },
  {
   "cell_type": "markdown",
   "id": "57c184d7",
   "metadata": {},
   "source": [
    "Saving the reconstructed data"
   ]
  },
  {
   "cell_type": "code",
   "execution_count": 14,
   "id": "a1c381b3",
   "metadata": {},
   "outputs": [
    {
     "name": "stderr",
     "output_type": "stream",
     "text": [
      "Processing /home/luca/Uni/Triennale/VI/Tesi/final_thesis/data/sim_1.csv: 100%|██████████| 100/100 [00:00<00:00, 1127.01it/s]\n"
     ]
    },
    {
     "name": "stdout",
     "output_type": "stream",
     "text": [
      "✔️ File 1 completed — Reconstructed: 85, Not reconstructed: 15, Singles: 0, Missing: 0\n",
      "[2025-10-07 12:30:49] Iteration 1 (0:00:00.153829) - Processing /home/luca/Uni/Triennale/VI/Tesi/final_thesis/data/sim_1.csv\n"
     ]
    },
    {
     "name": "stderr",
     "output_type": "stream",
     "text": [
      "Processing /home/luca/Uni/Triennale/VI/Tesi/final_thesis/data/sim_2.csv: 100%|██████████| 100/100 [00:00<00:00, 230.85it/s]\n"
     ]
    },
    {
     "name": "stdout",
     "output_type": "stream",
     "text": [
      "✔️ File 2 completed — Reconstructed: 171, Not reconstructed: 29, Singles: 0, Missing: 0\n",
      "[2025-10-07 12:30:49] Iteration 2 (0:00:00.658484) - Processing /home/luca/Uni/Triennale/VI/Tesi/final_thesis/data/sim_2.csv\n"
     ]
    },
    {
     "name": "stderr",
     "output_type": "stream",
     "text": [
      "Processing /home/luca/Uni/Triennale/VI/Tesi/final_thesis/data/sim_3.csv: 100%|██████████| 100/100 [00:01<00:00, 73.48it/s]\n"
     ]
    },
    {
     "name": "stdout",
     "output_type": "stream",
     "text": [
      "✔️ File 3 completed — Reconstructed: 256, Not reconstructed: 44, Singles: 0, Missing: 0\n",
      "[2025-10-07 12:30:51] Iteration 3 (0:00:02.134643) - Processing /home/luca/Uni/Triennale/VI/Tesi/final_thesis/data/sim_3.csv\n"
     ]
    },
    {
     "name": "stderr",
     "output_type": "stream",
     "text": [
      "Processing /home/luca/Uni/Triennale/VI/Tesi/final_thesis/data/sim_4.csv: 100%|██████████| 100/100 [00:04<00:00, 24.98it/s]\n"
     ]
    },
    {
     "name": "stdout",
     "output_type": "stream",
     "text": [
      "✔️ File 4 completed — Reconstructed: 350, Not reconstructed: 50, Singles: 0, Missing: 0\n",
      "[2025-10-07 12:30:55] Iteration 4 (0:00:06.292343) - Processing /home/luca/Uni/Triennale/VI/Tesi/final_thesis/data/sim_4.csv\n"
     ]
    },
    {
     "name": "stderr",
     "output_type": "stream",
     "text": [
      "Processing /home/luca/Uni/Triennale/VI/Tesi/final_thesis/data/sim_5.csv: 100%|██████████| 100/100 [00:08<00:00, 11.51it/s]\n"
     ]
    },
    {
     "name": "stdout",
     "output_type": "stream",
     "text": [
      "✔️ File 5 completed — Reconstructed: 440, Not reconstructed: 60, Singles: 0, Missing: 0\n",
      "[2025-10-07 12:31:04] Iteration 5 (0:00:15.152081) - Processing /home/luca/Uni/Triennale/VI/Tesi/final_thesis/data/sim_5.csv\n"
     ]
    },
    {
     "name": "stderr",
     "output_type": "stream",
     "text": [
      "Processing /home/luca/Uni/Triennale/VI/Tesi/final_thesis/data/sim_6.csv: 100%|██████████| 100/100 [00:15<00:00,  6.59it/s]\n"
     ]
    },
    {
     "name": "stdout",
     "output_type": "stream",
     "text": [
      "✔️ File 6 completed — Reconstructed: 520, Not reconstructed: 80, Singles: 0, Missing: 0\n",
      "[2025-10-07 12:31:19] Iteration 6 (0:00:30.522554) - Processing /home/luca/Uni/Triennale/VI/Tesi/final_thesis/data/sim_6.csv\n"
     ]
    },
    {
     "name": "stderr",
     "output_type": "stream",
     "text": [
      "Processing /home/luca/Uni/Triennale/VI/Tesi/final_thesis/data/sim_7.csv: 100%|██████████| 100/100 [00:28<00:00,  3.47it/s]\n"
     ]
    },
    {
     "name": "stdout",
     "output_type": "stream",
     "text": [
      "✔️ File 7 completed — Reconstructed: 602, Not reconstructed: 98, Singles: 0, Missing: 0\n",
      "[2025-10-07 12:31:48] Iteration 7 (0:00:59.571672) - Processing /home/luca/Uni/Triennale/VI/Tesi/final_thesis/data/sim_7.csv\n"
     ]
    },
    {
     "name": "stderr",
     "output_type": "stream",
     "text": [
      "Processing /home/luca/Uni/Triennale/VI/Tesi/final_thesis/data/sim_8.csv: 100%|██████████| 100/100 [00:40<00:00,  2.45it/s]\n"
     ]
    },
    {
     "name": "stdout",
     "output_type": "stream",
     "text": [
      "✔️ File 8 completed — Reconstructed: 679, Not reconstructed: 121, Singles: 0, Missing: 0\n",
      "[2025-10-07 12:32:29] Iteration 8 (0:01:40.635878) - Processing /home/luca/Uni/Triennale/VI/Tesi/final_thesis/data/sim_8.csv\n"
     ]
    },
    {
     "name": "stderr",
     "output_type": "stream",
     "text": [
      "Processing /home/luca/Uni/Triennale/VI/Tesi/final_thesis/data/sim_9.csv: 100%|██████████| 100/100 [01:01<00:00,  1.64it/s]\n"
     ]
    },
    {
     "name": "stdout",
     "output_type": "stream",
     "text": [
      "✔️ File 9 completed — Reconstructed: 782, Not reconstructed: 118, Singles: 0, Missing: 0\n",
      "[2025-10-07 12:33:31] Iteration 9 (0:02:41.999044) - Processing /home/luca/Uni/Triennale/VI/Tesi/final_thesis/data/sim_9.csv\n"
     ]
    },
    {
     "name": "stderr",
     "output_type": "stream",
     "text": [
      "Processing /home/luca/Uni/Triennale/VI/Tesi/final_thesis/data/sim_10.csv: 100%|██████████| 100/100 [01:29<00:00,  1.11it/s]"
     ]
    },
    {
     "name": "stdout",
     "output_type": "stream",
     "text": [
      "✔️ File 10 completed — Reconstructed: 878, Not reconstructed: 122, Singles: 0, Missing: 0\n",
      "[2025-10-07 12:35:01] Iteration 10 (0:04:12.236752) - Processing /home/luca/Uni/Triennale/VI/Tesi/final_thesis/data/sim_10.csv\n"
     ]
    },
    {
     "name": "stderr",
     "output_type": "stream",
     "text": [
      "\n"
     ]
    }
   ],
   "source": [
    "file_list = [path / \"data\" / f\"sim_{i}.csv\" for i in range(1, 11)]\n",
    "reconstructed = []\n",
    "not_reconstructed = []\n",
    "from_start = []\n",
    "single_points = []\n",
    "\n",
    "os.makedirs(path / \"reconstructed\", exist_ok=True)\n",
    "reconstructed_names = [path / \"reconstructed\" / f\"reco_C_{i}.csv\" for i in range(1, 11)]\n",
    "\n",
    "\n",
    "def write_to_csv(file_name, data):\n",
    "    with open(file_name, mode='a', newline='') as file:\n",
    "        writer = csv.writer(file)\n",
    "        writer.writerows(data)\n",
    "\n",
    "\n",
    "start = datetime.now()\n",
    "\n",
    "for l, file_name in enumerate(file_list):\n",
    "    output_name = reconstructed_names[l]\n",
    "    x, y, z, ev, trk = read_csv_py(file_name)\n",
    "    content = data_t_gen(x, y, z, ev, trk)\n",
    "\n",
    "    correctly_reconstructed_tracks = 0\n",
    "    not_reconstructed_tracks = 0\n",
    "    single_point_tracks = 0\n",
    "    missing_from_start = 0\n",
    "\n",
    "    data_buffer = []\n",
    "    num_events = content[-1].indexev\n",
    "\n",
    "    for idx__, i in tqdm(enumerate(range(num_events)), total=num_events, desc=f\"Processing {file_name}\"):\n",
    "        points = []\n",
    "        points_on_line = []\n",
    "        points_reco = []\n",
    "        direction = []\n",
    "        chi2min = 10000\n",
    "        index = -1\n",
    "\n",
    "        mask_points = np.array([int(c.indexev) == i for c in content])\n",
    "        points_list = [c.points for c, mask in zip(content, mask_points) if mask]\n",
    "        points = np.vstack(points_list) if points_list else np.empty((0, 3))\n",
    "\n",
    "        track_index_list = [int(c.id) * np.ones(len(c.points)) for c, mask in zip(content, mask_points) if mask]\n",
    "        track_index = np.concatenate(track_index_list) if track_index_list else np.empty((0,))\n",
    "\n",
    "        if len(points) == 0:\n",
    "            missing_from_start += 1\n",
    "            continue\n",
    "\n",
    "        prev_len = -1\n",
    "\n",
    "        while len(points) > 1 and len(points) != prev_len:\n",
    "            prev_len = len(points)\n",
    "            combinations = get_combinations(points, dist_z)\n",
    "            num_combinations = len(combinations)\n",
    "            index = -1\n",
    "            chi2min = 10000\n",
    "\n",
    "            if num_combinations > 0:\n",
    "                for k in range(num_combinations):\n",
    "                    p = np.array(combinations[k])\n",
    "                    line, chi2 = chi2_line(p)\n",
    "\n",
    "                    if chi2 < chi2min:\n",
    "                        chi2min = chi2\n",
    "                        index = k\n",
    "                        direction = line.direction / np.linalg.norm(line.direction)\n",
    "                        points_on_line = combinations[index][0]\n",
    "\n",
    "                if index == -1:\n",
    "                    not_reconstructed_tracks += 1\n",
    "                    for k in range(num_combinations):\n",
    "                        mask = np.ones(len(points), dtype=bool)\n",
    "                        for pt in combinations[k]:\n",
    "                            idx = np.where(np.all(np.isclose(points, pt), axis=1))[0]\n",
    "                            if idx.size > 0:\n",
    "                                mask[idx[0]] = False\n",
    "                        points_reco = points[~mask]\n",
    "                        points = points[mask]\n",
    "                        track_index = track_index[mask]\n",
    "                        data_buffer.extend([[i, 0, 0, 0, 0] + list(pt) for pt in points_reco])\n",
    "                else:\n",
    "                    mask = np.ones(len(points), dtype=bool)\n",
    "                    for pt in combinations[index]:\n",
    "                        idx = np.where(np.all(np.isclose(points, pt), axis=1))[0]\n",
    "                        if idx.size > 0:\n",
    "                            mask[idx[0]] = False\n",
    "\n",
    "                    id_rec = track_index[~mask]\n",
    "                    y = 1 if np.all(id_rec == id_rec[0]) and chi2min < 3 else 0\n",
    "\n",
    "                    if y == 1:\n",
    "                        correctly_reconstructed_tracks += 1\n",
    "                    else:\n",
    "                        not_reconstructed_tracks += 1\n",
    "\n",
    "                    points_reco = points[~mask]\n",
    "                    data_buffer.extend([[i, y] + list(direction) + list(pt) for pt in points_reco])\n",
    "                    points = points[mask]\n",
    "                    track_index = track_index[mask]\n",
    "\n",
    "            elif len(points) == 2:\n",
    "                y = 1 if np.all(track_index[:2] == track_index[0]) else 0\n",
    "                if y == 1:\n",
    "                    correctly_reconstructed_tracks += 1\n",
    "                else:\n",
    "                    not_reconstructed_tracks += 1\n",
    "\n",
    "                line = Line.best_fit(points)\n",
    "                direction = line.direction / np.linalg.norm(line.direction)\n",
    "                points_on_line = points[0]\n",
    "                points_reco = points\n",
    "                data_buffer.extend([[i, y] + list(direction) + list(points_on_line) + list(pt) for pt in points_reco])\n",
    "                break\n",
    "\n",
    "        if len(points) == 1:\n",
    "            single_point_tracks += 1\n",
    "            direction = np.zeros(3)\n",
    "            points_on_line = points[0]\n",
    "            data_buffer.extend([[i, 0] + list(direction) + list(points[0])])\n",
    "\n",
    "        if len(data_buffer) >= 5000:\n",
    "            write_to_csv(output_name, data_buffer)\n",
    "            data_buffer = []\n",
    "\n",
    "    if data_buffer:\n",
    "        write_to_csv(output_name, data_buffer)\n",
    "\n",
    "    reconstructed.append(correctly_reconstructed_tracks)\n",
    "    not_reconstructed.append(not_reconstructed_tracks)\n",
    "    single_points.append(single_point_tracks)\n",
    "    from_start.append(missing_from_start)\n",
    "\n",
    "    print(f\"✔️ File {l+1} completed — Reconstructed: {correctly_reconstructed_tracks}, Not reconstructed: {not_reconstructed_tracks}, Singles: {single_point_tracks}, Missing: {missing_from_start}\")\n",
    "    now = datetime.now()\n",
    "    elapsed = now - start\n",
    "    timestamp = now.strftime(\"%Y-%m-%d %H:%M:%S\")\n",
    "    print(f\"[{timestamp}] Iteration {l+1} ({elapsed}) - Processing {file_name}\")\n"
   ]
  },
  {
   "cell_type": "markdown",
   "id": "b81eacdc",
   "metadata": {},
   "source": [
    "Creating the reconstruction plot"
   ]
  },
  {
   "cell_type": "code",
   "execution_count": 15,
   "id": "8ea0344e",
   "metadata": {},
   "outputs": [
    {
     "data": {
      "image/png": "[encoded data removed]",
      "text/plain": [
       "<Figure size 800x600 with 1 Axes>"
      ]
     },
     "metadata": {},
     "output_type": "display_data"
    }
   ],
   "source": [
    "DECIMALS = 6\n",
    "\n",
    "file_list = [path / \"reconstructed\" / f\"reco_C_{i}.csv\" for i in range(1, 11)]\n",
    "all_perf = []\n",
    "os.makedirs(path / \"res\", exist_ok=True)\n",
    "\n",
    "\n",
    "for n_track, name in enumerate(file_list, start=1):\n",
    "    df = pd.read_csv(name, header=None, on_bad_lines='skip', names=['event', 'reco_id', 'vx', 'vy', 'vz', 'x', 'y', 'z'])\n",
    "\n",
    "    df[['vx', 'vy', 'vz']] = df[['vx', 'vy', 'vz']].round(DECIMALS)\n",
    "\n",
    "    grouped = (\n",
    "        df.groupby(['event', 'vx', 'vy', 'vz'], as_index=False)\n",
    "        .agg(correct_group=('reco_id', lambda s: (s == 1).all()))\n",
    "    )\n",
    "\n",
    "    summary = grouped.groupby('event', as_index=False)['correct_group'].agg(\n",
    "        total='count', correct='sum'\n",
    "    )\n",
    "\n",
    "    summary['accuracy'] = (summary['correct'] / n_track).clip(upper=1)\n",
    "    summary['n_track'] = n_track\n",
    "    summary['file'] = name\n",
    "\n",
    "    bad = summary[summary['correct'] > n_track]\n",
    "    if not bad.empty:\n",
    "        print(f\"{name} events with correct > n_track:\", bad['event'].tolist())\n",
    "\n",
    "    all_perf.append(summary)\n",
    "\n",
    "df_all1 = pd.concat(all_perf, ignore_index=True)\n",
    "\n",
    "plt.rcParams.update({\n",
    "    'font.size': 20,\n",
    "    'axes.titlesize': 23,\n",
    "    'axes.labelsize': 18,\n",
    "    'xtick.labelsize': 16,\n",
    "    'ytick.labelsize': 16,\n",
    "    'legend.fontsize': 16\n",
    "})\n",
    "\n",
    "df_all = df_all1.groupby('file', group_keys=False).head(1000)\n",
    "\n",
    "x = df_all['n_track'].astype(int)\n",
    "y = df_all['accuracy'].astype(float)\n",
    "\n",
    "plt.figure(figsize=(8, 6))\n",
    "plt.scatter(x, y, s=22, alpha=0.15, color='green', label='Events', zorder=2)\n",
    "\n",
    "g = df_all.groupby('n_track')['accuracy']\n",
    "xg = g.mean().index\n",
    "yg = g.mean().values\n",
    "yerr = g.std().fillna(0).values\n",
    "\n",
    "plt.errorbar(xg, yg, yerr=yerr, fmt='o-', capsize=4, linewidth=1.5, color='green', label='Mean ± std')\n",
    "\n",
    "plt.xlabel('n_track per event')\n",
    "plt.ylabel('Efficiency')\n",
    "plt.ylim(0, 1.05)\n",
    "plt.grid(True, alpha=0.7)\n",
    "plt.legend()\n",
    "\n",
    "final_png = path / \"res\" / \"plot_res_comb.png\"\n",
    "# plt.savefig(final_png, bbox_inches='tight')\n",
    "plt.show()\n",
    "\n",
    "df_all.to_csv(path / \"res\" / \"efficiency_comb.csv\", index=False)\n"
   ]
  },
  {
   "cell_type": "markdown",
   "id": "2161ebe6",
   "metadata": {},
   "source": [
    "## Hough Transform Method"
   ]
  },
  {
   "cell_type": "code",
   "execution_count": 16,
   "id": "721ceed2",
   "metadata": {},
   "outputs": [],
   "source": [
    "import os\n",
    "from pathlib import Path\n",
    "import pandas as pd\n",
    "import matplotlib.pyplot as plt\n",
    "from functions import (\n",
    "    fit_events,\n",
    "    per_event_accuracy_greedy,\n",
    "    \n",
    ")\n",
    "path = Path(os.path.abspath(\"\"))"
   ]
  },
  {
   "cell_type": "markdown",
   "id": "d65474c1",
   "metadata": {},
   "source": [
    "Saving the reconstructed data"
   ]
  },
  {
   "cell_type": "code",
   "execution_count": 17,
   "id": "bb45fd77",
   "metadata": {},
   "outputs": [
    {
     "name": "stdout",
     "output_type": "stream",
     "text": [
      "Hough Track Seeding running...\n"
     ]
    },
    {
     "name": "stderr",
     "output_type": "stream",
     "text": [
      "100%|██████████| 101/101 [00:00<00:00, 129.80it/s]\n",
      "100%|██████████| 101/101 [00:00<00:00, 119.67it/s]\n",
      "100%|██████████| 101/101 [00:00<00:00, 130.78it/s]\n"
     ]
    },
    {
     "name": "stdout",
     "output_type": "stream",
     "text": [
      "Choose best hough\n"
     ]
    },
    {
     "name": "stderr",
     "output_type": "stream",
     "text": [
      "100%|██████████| 101/101 [00:00<00:00, 107.72it/s]\n"
     ]
    },
    {
     "name": "stdout",
     "output_type": "stream",
     "text": [
      "Fit all events\n"
     ]
    },
    {
     "name": "stderr",
     "output_type": "stream",
     "text": [
      "100%|██████████| 101/101 [00:00<00:00, 439.97it/s]\n"
     ]
    },
    {
     "name": "stdout",
     "output_type": "stream",
     "text": [
      "\n",
      "Overall file sim_1.csv: 100.00% (303/303)\n",
      "Hough Track Seeding running...\n"
     ]
    },
    {
     "name": "stderr",
     "output_type": "stream",
     "text": [
      "100%|██████████| 101/101 [00:01<00:00, 62.19it/s]\n",
      "100%|██████████| 101/101 [00:01<00:00, 56.53it/s]\n",
      "100%|██████████| 101/101 [00:01<00:00, 56.93it/s]\n"
     ]
    },
    {
     "name": "stdout",
     "output_type": "stream",
     "text": [
      "Choose best hough\n"
     ]
    },
    {
     "name": "stderr",
     "output_type": "stream",
     "text": [
      "100%|██████████| 101/101 [00:01<00:00, 71.15it/s]\n"
     ]
    },
    {
     "name": "stdout",
     "output_type": "stream",
     "text": [
      "Fit all events\n"
     ]
    },
    {
     "name": "stderr",
     "output_type": "stream",
     "text": [
      "100%|██████████| 101/101 [00:04<00:00, 22.13it/s]\n"
     ]
    },
    {
     "name": "stdout",
     "output_type": "stream",
     "text": [
      "\n",
      "Overall file sim_2.csv: 99.01% (600/606)\n",
      "Hough Track Seeding running...\n"
     ]
    },
    {
     "name": "stderr",
     "output_type": "stream",
     "text": [
      "100%|██████████| 101/101 [00:02<00:00, 39.49it/s]\n",
      "100%|██████████| 101/101 [00:02<00:00, 34.40it/s]\n",
      "100%|██████████| 101/101 [00:02<00:00, 34.15it/s]\n"
     ]
    },
    {
     "name": "stdout",
     "output_type": "stream",
     "text": [
      "Choose best hough\n"
     ]
    },
    {
     "name": "stderr",
     "output_type": "stream",
     "text": [
      "100%|██████████| 101/101 [00:01<00:00, 55.66it/s]\n"
     ]
    },
    {
     "name": "stdout",
     "output_type": "stream",
     "text": [
      "Fit all events\n"
     ]
    },
    {
     "name": "stderr",
     "output_type": "stream",
     "text": [
      "100%|██████████| 101/101 [00:00<00:00, 137.34it/s]\n"
     ]
    },
    {
     "name": "stdout",
     "output_type": "stream",
     "text": [
      "\n",
      "Overall file sim_3.csv: 98.68% (897/909)\n",
      "Hough Track Seeding running...\n"
     ]
    },
    {
     "name": "stderr",
     "output_type": "stream",
     "text": [
      "100%|██████████| 101/101 [00:04<00:00, 24.69it/s]\n",
      "100%|██████████| 101/101 [00:04<00:00, 22.30it/s]\n",
      "100%|██████████| 101/101 [00:04<00:00, 22.55it/s]\n"
     ]
    },
    {
     "name": "stdout",
     "output_type": "stream",
     "text": [
      "Choose best hough\n"
     ]
    },
    {
     "name": "stderr",
     "output_type": "stream",
     "text": [
      "100%|██████████| 101/101 [00:01<00:00, 51.53it/s]\n"
     ]
    },
    {
     "name": "stdout",
     "output_type": "stream",
     "text": [
      "Fit all events\n"
     ]
    },
    {
     "name": "stderr",
     "output_type": "stream",
     "text": [
      "100%|██████████| 101/101 [00:00<00:00, 146.81it/s]\n"
     ]
    },
    {
     "name": "stdout",
     "output_type": "stream",
     "text": [
      "\n",
      "Overall file sim_4.csv: 91.34% (1107/1212)\n",
      "Hough Track Seeding running...\n"
     ]
    },
    {
     "name": "stderr",
     "output_type": "stream",
     "text": [
      "100%|██████████| 101/101 [00:05<00:00, 17.17it/s]\n",
      "100%|██████████| 101/101 [00:06<00:00, 16.50it/s]\n",
      "100%|██████████| 101/101 [00:06<00:00, 15.90it/s]\n"
     ]
    },
    {
     "name": "stdout",
     "output_type": "stream",
     "text": [
      "Choose best hough\n"
     ]
    },
    {
     "name": "stderr",
     "output_type": "stream",
     "text": [
      "100%|██████████| 101/101 [00:02<00:00, 41.91it/s]\n"
     ]
    },
    {
     "name": "stdout",
     "output_type": "stream",
     "text": [
      "Fit all events\n"
     ]
    },
    {
     "name": "stderr",
     "output_type": "stream",
     "text": [
      "100%|██████████| 101/101 [00:00<00:00, 108.98it/s]\n"
     ]
    },
    {
     "name": "stdout",
     "output_type": "stream",
     "text": [
      "\n",
      "Overall file sim_5.csv: 86.53% (1311/1515)\n",
      "Hough Track Seeding running...\n"
     ]
    },
    {
     "name": "stderr",
     "output_type": "stream",
     "text": [
      "100%|██████████| 101/101 [00:10<00:00, 10.10it/s]\n",
      "100%|██████████| 101/101 [00:09<00:00, 11.21it/s]\n",
      "100%|██████████| 101/101 [00:08<00:00, 11.55it/s]\n"
     ]
    },
    {
     "name": "stdout",
     "output_type": "stream",
     "text": [
      "Choose best hough\n"
     ]
    },
    {
     "name": "stderr",
     "output_type": "stream",
     "text": [
      "100%|██████████| 101/101 [00:02<00:00, 34.77it/s]\n"
     ]
    },
    {
     "name": "stdout",
     "output_type": "stream",
     "text": [
      "Fit all events\n"
     ]
    },
    {
     "name": "stderr",
     "output_type": "stream",
     "text": [
      "100%|██████████| 101/101 [00:01<00:00, 88.98it/s]\n"
     ]
    },
    {
     "name": "stdout",
     "output_type": "stream",
     "text": [
      "\n",
      "Overall file sim_6.csv: 78.38% (1425/1818)\n",
      "Hough Track Seeding running...\n"
     ]
    },
    {
     "name": "stderr",
     "output_type": "stream",
     "text": [
      "100%|██████████| 101/101 [00:11<00:00,  8.89it/s]\n",
      "100%|██████████| 101/101 [00:11<00:00,  8.45it/s]\n",
      "100%|██████████| 101/101 [00:10<00:00,  9.34it/s]\n"
     ]
    },
    {
     "name": "stdout",
     "output_type": "stream",
     "text": [
      "Choose best hough\n"
     ]
    },
    {
     "name": "stderr",
     "output_type": "stream",
     "text": [
      "100%|██████████| 101/101 [00:03<00:00, 31.82it/s]\n"
     ]
    },
    {
     "name": "stdout",
     "output_type": "stream",
     "text": [
      "Fit all events\n"
     ]
    },
    {
     "name": "stderr",
     "output_type": "stream",
     "text": [
      "100%|██████████| 101/101 [00:01<00:00, 79.50it/s]\n"
     ]
    },
    {
     "name": "stdout",
     "output_type": "stream",
     "text": [
      "\n",
      "Overall file sim_7.csv: 71.48% (1516/2121)\n",
      "Hough Track Seeding running...\n"
     ]
    },
    {
     "name": "stderr",
     "output_type": "stream",
     "text": [
      "100%|██████████| 101/101 [00:12<00:00,  8.17it/s]\n",
      "100%|██████████| 101/101 [00:13<00:00,  7.26it/s]\n",
      "100%|██████████| 101/101 [00:12<00:00,  7.79it/s]\n"
     ]
    },
    {
     "name": "stdout",
     "output_type": "stream",
     "text": [
      "Choose best hough\n"
     ]
    },
    {
     "name": "stderr",
     "output_type": "stream",
     "text": [
      "100%|██████████| 101/101 [00:03<00:00, 28.42it/s]\n"
     ]
    },
    {
     "name": "stdout",
     "output_type": "stream",
     "text": [
      "Fit all events\n"
     ]
    },
    {
     "name": "stderr",
     "output_type": "stream",
     "text": [
      "100%|██████████| 101/101 [00:01<00:00, 70.17it/s]\n"
     ]
    },
    {
     "name": "stdout",
     "output_type": "stream",
     "text": [
      "\n",
      "Overall file sim_8.csv: 65.68% (1592/2424)\n",
      "Hough Track Seeding running...\n"
     ]
    },
    {
     "name": "stderr",
     "output_type": "stream",
     "text": [
      "100%|██████████| 101/101 [00:15<00:00,  6.37it/s]\n",
      "100%|██████████| 101/101 [00:15<00:00,  6.47it/s]\n",
      "100%|██████████| 101/101 [00:15<00:00,  6.32it/s]\n"
     ]
    },
    {
     "name": "stdout",
     "output_type": "stream",
     "text": [
      "Choose best hough\n"
     ]
    },
    {
     "name": "stderr",
     "output_type": "stream",
     "text": [
      "100%|██████████| 101/101 [00:04<00:00, 25.23it/s]\n"
     ]
    },
    {
     "name": "stdout",
     "output_type": "stream",
     "text": [
      "Fit all events\n"
     ]
    },
    {
     "name": "stderr",
     "output_type": "stream",
     "text": [
      "100%|██████████| 101/101 [00:01<00:00, 60.93it/s]\n"
     ]
    },
    {
     "name": "stdout",
     "output_type": "stream",
     "text": [
      "\n",
      "Overall file sim_9.csv: 58.75% (1602/2727)\n",
      "Hough Track Seeding running...\n"
     ]
    },
    {
     "name": "stderr",
     "output_type": "stream",
     "text": [
      "100%|██████████| 101/101 [00:17<00:00,  5.82it/s]\n",
      "100%|██████████| 101/101 [00:17<00:00,  5.64it/s]\n",
      "100%|██████████| 101/101 [00:18<00:00,  5.35it/s]\n"
     ]
    },
    {
     "name": "stdout",
     "output_type": "stream",
     "text": [
      "Choose best hough\n"
     ]
    },
    {
     "name": "stderr",
     "output_type": "stream",
     "text": [
      "100%|██████████| 101/101 [00:04<00:00, 23.71it/s]\n"
     ]
    },
    {
     "name": "stdout",
     "output_type": "stream",
     "text": [
      "Fit all events\n"
     ]
    },
    {
     "name": "stderr",
     "output_type": "stream",
     "text": [
      "100%|██████████| 101/101 [00:01<00:00, 53.55it/s]\n"
     ]
    },
    {
     "name": "stdout",
     "output_type": "stream",
     "text": [
      "\n",
      "Overall file sim_10.csv: 57.43% (1740/3030)\n"
     ]
    }
   ],
   "source": [
    "data_dir = path / \"data\"\n",
    "reco_dir = path / \"reconstructed\"\n",
    "\n",
    "\n",
    "reco_dir.mkdir(exist_ok=True)\n",
    "\n",
    "\n",
    "names = [data_dir / f\"sim_{i}.csv\" for i in range(1, 11)]\n",
    "namesave = [reco_dir / f\"reco_HT_{i}.csv\" for i in range(1, 11)]\n",
    "\n",
    "all_perf = []\n",
    "\n",
    "for i, name in enumerate(names):\n",
    "    df = pd.read_csv(name)\n",
    "    df['event'] = df['event'].astype(int)\n",
    "\n",
    "    df_clusters_hough_best, vec, point = fit_events(df)\n",
    "\n",
    "    mask = df_clusters_hough_best['trk_nr'] != -1\n",
    "    df_clusters_hough_best.loc[mask, 'trk_nr'] = (\n",
    "        df_clusters_hough_best.loc[mask, 'trk_nr'].astype(int) + 1\n",
    "    )\n",
    "\n",
    "    if 'event_trk_nr' in df_clusters_hough_best.columns:\n",
    "        df_clusters_hough_best = df_clusters_hough_best.drop(columns=['event_trk_nr'])\n",
    "\n",
    "    df_clusters_hough_best.to_csv(namesave[i], index=False)\n",
    "\n",
    "    perf = per_event_accuracy_greedy(\n",
    "        df_clusters_hough_best,\n",
    "        event_col='event',\n",
    "        true_col='trk_index',\n",
    "        pred_col='trk_nr',\n",
    "        unassigned_label=-1,\n",
    "        include_unassigned_in_den=True\n",
    "    )\n",
    "\n",
    "    n_tracks_true = (\n",
    "        df_clusters_hough_best\n",
    "        .groupby('event')['trk_index']\n",
    "        .nunique()\n",
    "        .rename('n_track')\n",
    "    )\n",
    "\n",
    "    perf_plot = perf.merge(n_tracks_true, on='event', how='left')\n",
    "    perf_plot['file'] = name.name\n",
    "    all_perf.append(perf_plot)\n",
    "\n",
    "    total = perf['total'].sum()\n",
    "    correct = perf['correct'].sum()\n",
    "    overall = correct / total if total else float('nan')\n",
    "    print(f\"\\nOverall file {name.name}: {overall:.2%} ({correct}/{total})\")\n",
    "\n",
    "\n",
    "\n",
    "df_all = pd.concat(all_perf, ignore_index=True)\n",
    "save = path / \"res\" / \"efficiency_HT.csv\"\n",
    "df_all.to_csv(save , index=False)\n",
    "\n",
    "df_all = pd.concat(all_perf, ignore_index=True)\n",
    "save = path / \"res\" / \"efficiency_HT.csv\"\n",
    "df_all.to_csv(save , index=False)\n",
    "\n"
   ]
  },
  {
   "cell_type": "markdown",
   "id": "6f0b4ce2",
   "metadata": {},
   "source": [
    "Creating the reconstruction plot"
   ]
  },
  {
   "cell_type": "code",
   "execution_count": 18,
   "id": "1cb959c8",
   "metadata": {},
   "outputs": [
    {
     "data": {
      "image/png": "[encoded data removed]",
      "text/plain": [
       "<Figure size 800x600 with 1 Axes>"
      ]
     },
     "metadata": {},
     "output_type": "display_data"
    }
   ],
   "source": [
    "df_all = pd.read_csv(save)\n",
    "\n",
    "plt.rcParams.update({\n",
    "    'font.size': 20,\n",
    "    'axes.titlesize': 23,\n",
    "    'axes.labelsize': 18,\n",
    "    'xtick.labelsize': 16,\n",
    "    'ytick.labelsize': 16,\n",
    "    'legend.fontsize': 16\n",
    "})\n",
    "\n",
    "x = df_all['n_track'].astype(int).values\n",
    "y = df_all['accuracy'].astype(float).values\n",
    "\n",
    "plt.figure(figsize=(8, 6))\n",
    "plt.scatter(x, y, s=22, alpha=0.5, label='Events', zorder=2)\n",
    "\n",
    "g = df_all.groupby('n_track')['accuracy']\n",
    "xg = g.mean().index.values\n",
    "yg = g.mean().values\n",
    "yerr = g.std().fillna(0).values\n",
    "\n",
    "plt.errorbar(xg, yg, yerr=yerr, fmt='o-', capsize=4, linewidth=1.5, label='Mean ± std')\n",
    "\n",
    "plt.xlabel('n_track per event')\n",
    "plt.ylabel('Efficiency')\n",
    "plt.ylim(0, 1.05)\n",
    "plt.grid(True)\n",
    "plt.legend()\n",
    "plt.show()\n",
    "\n",
    "\n",
    "final_png = path / \"res\" / \"plot_res_HT.png\"\n",
    "# plt.savefig(final_png, bbox_inches='tight')"
   ]
  },
  {
   "cell_type": "markdown",
   "id": "441ee040",
   "metadata": {},
   "source": [
    "#### This notebook contains everything necessary to reproduce the plots presented in my Bachelor’s thesis. Nevertheless, I chose to share the original data I used for these plots."
   ]
  },
  {
   "cell_type": "markdown",
   "id": "19b1caa0",
   "metadata": {},
   "source": [
    "- The **`gen1`** folder contains the *inclined* dataset, with two miss probabilities, reconstructed using two different algorithms.  \n",
    "- The **`gen2`** folder contains the *isotropic* dataset, also with two miss probabilities, reconstructed using the same two algorithms.  \n",
    "- The **`res_thesis`** folder includes all results obtained with the different datasets and reconstruction methods.  \n",
    "\n",
    "**Naming convention:**\n",
    "- **`met1`** → *Combinatorial* reconstruction method  \n",
    "- **`met2`** → *HT* (Hough Transform) reconstruction method  \n",
    "- **`m`** → *Miss* datasets  \n",
    "- **`nm`** → *No-miss* datasets  \n",
    "- **`gen1`** → *Inclined* dataset  \n",
    "- **`gen2`** → *Isotropic* dataset\n"
   ]
  }
 ],
 "metadata": {
  "kernelspec": {
   "display_name": ".venv",
   "language": "python",
   "name": "python3"
  },
  "language_info": {
   "codemirror_mode": {
    "name": "ipython",
    "version": 3
   },
   "file_extension": ".py",
   "mimetype": "text/x-python",
   "name": "python",
   "nbconvert_exporter": "python",
   "pygments_lexer": "ipython3",
   "version": "3.12.3"
  }
 },
 "nbformat": 4,
 "nbformat_minor": 5
}
